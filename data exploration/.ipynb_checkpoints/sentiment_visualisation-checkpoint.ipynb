{
 "cells": [
  {
   "cell_type": "markdown",
   "metadata": {},
   "source": [
    "# Short\n",
    "\n",
    "Now that all data gathering is done (see /data) and all sentiment analysis is complete (see /sentiment_analysis and /data for method and results) it is time to take a look at which information was extracted from the tweets. First we will take a look at the naive average sentiment for every day of our chosen interval but as we do not expect this to be too informative we will do some data manipulation and see if we can find out some meaningful trends in the sentiment of the public's tweets during the Corona virus outbreak. \n",
    "\n",
    "# Naive approach \n",
    "\n",
    "Let's first take a look at the average sentiment for each day from our sampling period and see if we can detect anything resembling any of the curves typically linked to the outbreak. For this we will use the sentiments_per_day.csv file in the /data folder. "
   ]
  },
  {
   "cell_type": "code",
   "execution_count": 1,
   "metadata": {},
   "outputs": [],
   "source": [
    "import pandas as pd \n",
    "import numpy as np \n",
    "import os\n",
    "from os import path"
   ]
  },
  {
   "cell_type": "markdown",
   "metadata": {},
   "source": [
    "First we set the /data directory as our work space"
   ]
  },
  {
   "cell_type": "code",
   "execution_count": 2,
   "metadata": {},
   "outputs": [],
   "source": [
    "#check if data directory is in its expected place\n",
    "if not path.isdir(os.getcwd()+'/data'):\n",
    "    #if not in this directory try parent directory\n",
    "    original = path.dirname(os.getcwd())\n",
    "    os.chdir(original)\n",
    "    parent = os.getcwd()\n",
    "    if not path.isdir(parent+'/data'):\n",
    "        raise Exception(\"No data directory was found at %s or %s\"%(original, parent))\n",
    "    else:\n",
    "        os.chdir(os.getcwd()+'/data')\n",
    "\n",
    "else:\n",
    "    os.chdir(os.getcwd()+'/data')"
   ]
  },
  {
   "cell_type": "markdown",
   "metadata": {},
   "source": [
    "Now we will read the data into a Pandas dataframe and make our first visualisation"
   ]
  },
  {
   "cell_type": "code",
   "execution_count": 3,
   "metadata": {},
   "outputs": [
    {
     "data": {
      "text/plain": [
       "<matplotlib.axes._subplots.AxesSubplot at 0x253d7862708>"
      ]
     },
     "execution_count": 3,
     "metadata": {},
     "output_type": "execute_result"
    }
   ],
   "source": [
    "frame = pd.read_csv('sentiments_per_day.csv', names = [\"date\", \"sentiment\"])\n",
    "frame.plot.scatter(x=\"date\", y=\"sentiment\")"
   ]
  },
  {
   "cell_type": "code",
   "execution_count": null,
   "metadata": {},
   "outputs": [],
   "source": []
  }
 ],
 "metadata": {
  "kernelspec": {
   "display_name": "Python 3",
   "language": "python",
   "name": "python3"
  },
  "language_info": {
   "codemirror_mode": {
    "name": "ipython",
    "version": 3
   },
   "file_extension": ".py",
   "mimetype": "text/x-python",
   "name": "python",
   "nbconvert_exporter": "python",
   "pygments_lexer": "ipython3",
   "version": "3.7.4"
  }
 },
 "nbformat": 4,
 "nbformat_minor": 2
}
