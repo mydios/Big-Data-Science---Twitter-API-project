{
 "cells": [
  {
   "cell_type": "code",
   "execution_count": 1,
   "metadata": {},
   "outputs": [],
   "source": [
    "import searchtweets\n",
    "import pandas as pd\n",
    "import numpy as np\n",
    "import json\n",
    "import os\n",
    "import requests\n",
    "import time as t\n",
    "%matplotlib inline\n",
    "import matplotlib.pyplot as plt\n",
    "from datetime import datetime, timedelta, time"
   ]
  },
  {
   "cell_type": "markdown",
   "metadata": {},
   "source": [
    "## Scrape tweets"
   ]
  },
  {
   "cell_type": "markdown",
   "metadata": {},
   "source": [
    "Make sure there is a 'creds.yaml' file containing Twitter API credentials in the same folder as the notebook"
   ]
  },
  {
   "cell_type": "code",
   "execution_count": null,
   "metadata": {},
   "outputs": [],
   "source": [
    "search_args = searchtweets.load_credentials(filename=\"./creds.yaml\",\n",
    "                 yaml_key=\"search_tweets_api_4\",\n",
    "                 env_overwrite=False)"
   ]
  },
  {
   "cell_type": "markdown",
   "metadata": {},
   "source": [
    "Scrape tweet data from 03-11-2020 until now (which was 07-05-2020)"
   ]
  },
  {
   "cell_type": "code",
   "execution_count": 222,
   "metadata": {},
   "outputs": [
    {
     "name": "stderr",
     "output_type": "stream",
     "text": [
      "Grabbing bearer token from OAUTH\n"
     ]
    },
    {
     "name": "stdout",
     "output_type": "stream",
     "text": [
      "Fri Apr 10 23:35:48 +0000 2020\n",
      "Count: 22\n",
      "Sat Apr 11 21:31:53 +0000 2020\n",
      "Count: 27\n",
      "Sun Apr 12 23:45:40 +0000 2020\n",
      "Count: 36\n",
      "Mon Apr 13 21:36:06 +0000 2020\n",
      "Count: 31\n",
      "Tue Apr 14 22:49:36 +0000 2020\n",
      "Count: 29\n"
     ]
    }
   ],
   "source": [
    "date_s = datetime(2020, 3, 11)\n",
    "date_u = date_s + timedelta(days=1)\n",
    "for i in range(58):\n",
    "    # Query and and extra search options\n",
    "    rule = searchtweets.gen_rule_payload(\"(covid OR uwkot OR corona OR masker OR distance OR woonzorg OR virus OR afstand OR lockdown) lang:nl place_country:BE\", results_per_call=100, from_date = date_s.strftime(\"%Y%m%d%H%M\"), to_date = date_u.strftime(\"%Y%m%d%H%M\"))\n",
    "    try:\n",
    "        tweets = searchtweets.collect_results(rule,\n",
    "                         max_results=500,\n",
    "                         result_stream_args=search_args)\n",
    "        \n",
    "        # Write raw json data to file\n",
    "        with open(date_s.strftime(\"%Y%m%d\")+'.json', 'w') as file:\n",
    "            for tweet in tweets:\n",
    "                json.dump(tweet, file)\n",
    "                file.write('\\n')\n",
    "        # Print some information to see progress\n",
    "        print(tweets[0]['created_at'])\n",
    "        print('Count: {}'.format(str(len(tweets))))\n",
    "    except:\n",
    "        print('Error')\n",
    "    \n",
    "    # Shift by one day\n",
    "    date_s = date_u\n",
    "    date_u = date_s + timedelta(days=1)\n",
    "    \n",
    "    # Sleep to avoid rate limits\n",
    "    t.sleep(10)"
   ]
  },
  {
   "cell_type": "code",
   "execution_count": 131,
   "metadata": {},
   "outputs": [],
   "source": [
    "# Twitter returns bbox for locations. We use this function to get coordinates of the bbox 'center'.\n",
    "# Not 100% accurate but good enough for our purpose\n",
    "def estimate_loc(bbox):\n",
    "    return (bbox[0][0][0]+bbox[0][2][0])/2 , (bbox[0][0][1]+bbox[0][2][1])/2"
   ]
  },
  {
   "cell_type": "code",
   "execution_count": 6,
   "metadata": {},
   "outputs": [],
   "source": [
    "# Column names for our dataframe\n",
    "col_names = ['date', 'id', 'text', 'time', 'retweeted', 'favorite_count', 'retweet_count', 'reply_count', 'verified_user', 'location_name', 'location_lat', 'location_lon']\n",
    "\n",
    "data = []\n",
    "\n",
    "# Set start dates\n",
    "date_s = datetime(2020, 3, 11)\n",
    "date_u = date_s + timedelta(days=1)\n",
    "\n",
    "# Go until 07-05-2020\n",
    "for i in range(58):\n",
    "    num = 0\n",
    "    # Open the raw json data\n",
    "    with open('data/'+date_s.strftime(\"%Y%m%d\")+'.json', 'r') as file:\n",
    "        for line in file:\n",
    "            tweet = json.loads(line)\n",
    "            text = ''\n",
    "            time = t.strptime(tweet['created_at'], '%a %b %d %H:%M:%S %z %Y')\n",
    "            \n",
    "            # Get the tweet location\n",
    "            if tweet['place'] is not None:\n",
    "                lon, lat = estimate_loc(tweet['place']['bounding_box']['coordinates'])\n",
    "                place_name = tweet['place']['name']\n",
    "            # If tweet has no location, add the user's location as place name\n",
    "            else:\n",
    "                place_name = tweet['user']['location']\n",
    "                lon, lat = None, None\n",
    "            # If long tweet text, check the extended tweet for the full text\n",
    "            if 'extended_tweet' in tweet:\n",
    "                text = tweet['extended_tweet']['full_text']\n",
    "            else:\n",
    "                text = tweet['text']\n",
    "            \n",
    "            # Write line by line to csv\n",
    "            d = [[date_s.strftime(\"%Y%m%d\"), tweet['id_str'], text, t.strftime('%H:%M:%S', time), 'retweeted_status' in tweet, tweet['favorite_count'], tweet['retweet_count'], tweet['reply_count'], tweet['user']['verified'], place_name , lat, lon]]\n",
    "            df = pd.DataFrame(data=d, columns=col_names)\n",
    "            df.to_csv('data/tweets.csv', mode='a', header=not os.path.exists('data/tweets.csv'))\n",
    "    \n",
    "    # Shift dates\n",
    "    date_s = date_u\n",
    "    date_u = date_s + timedelta(days=1)\n",
    "\n",
    "# Fix indexes in csv file\n",
    "df = pd.read_csv('data/tweets.csv')\n",
    "df = df[['date', 'id', 'text', 'time', 'retweeted', 'favorite_count', 'retweet_count', 'reply_count', 'verified_user', 'location_name', 'location_lat', 'location_lon']]\n",
    "df.to_csv('data/tweets.csv')"
   ]
  },
  {
   "cell_type": "markdown",
   "metadata": {},
   "source": [
    "## Analyzing data"
   ]
  },
  {
   "cell_type": "code",
   "execution_count": 2,
   "metadata": {},
   "outputs": [],
   "source": [
    "df = pd.read_csv('data/tweets.csv')"
   ]
  },
  {
   "cell_type": "markdown",
   "metadata": {},
   "source": [
    "### Tweet locations"
   ]
  },
  {
   "cell_type": "code",
   "execution_count": 115,
   "metadata": {},
   "outputs": [],
   "source": [
    "# Gather tweets which have coordinates\n",
    "locs = df[df['location_lat'].notna()]"
   ]
  },
  {
   "cell_type": "code",
   "execution_count": 116,
   "metadata": {},
   "outputs": [],
   "source": [
    "# Keep only the id and coordinates\n",
    "locs_only = locs[['id','location_lat', 'location_lon']]"
   ]
  },
  {
   "cell_type": "code",
   "execution_count": 111,
   "metadata": {},
   "outputs": [
    {
     "data": {
      "image/png": "[encoded data removed]",
      "text/plain": [
       "<Figure size 432x288 with 1 Axes>"
      ]
     },
     "metadata": {
      "needs_background": "light"
     },
     "output_type": "display_data"
    }
   ],
   "source": [
    "# Plot the data, it is clear that most tweets originated from Flanders.\n",
    "# Which makes sense, as we checked for dutch tweets in Belgium\n",
    "fig,ax = plt.subplots()\n",
    "locs_only.plot.scatter(x='location_lon',y='location_lat',ax=ax)\n",
    "plt.show()"
   ]
  },
  {
   "cell_type": "code",
   "execution_count": 136,
   "metadata": {},
   "outputs": [
    {
     "data": {
      "text/html": [
       "<div>\n",
       "<style scoped>\n",
       "    .dataframe tbody tr th:only-of-type {\n",
       "        vertical-align: middle;\n",
       "    }\n",
       "\n",
       "    .dataframe tbody tr th {\n",
       "        vertical-align: top;\n",
       "    }\n",
       "\n",
       "    .dataframe thead th {\n",
       "        text-align: right;\n",
       "    }\n",
       "</style>\n",
       "<table border=\"1\" class=\"dataframe\">\n",
       "  <thead>\n",
       "    <tr style=\"text-align: right;\">\n",
       "      <th></th>\n",
       "      <th>date</th>\n",
       "      <th>id</th>\n",
       "      <th>text</th>\n",
       "      <th>time</th>\n",
       "      <th>retweeted</th>\n",
       "      <th>favorite_count</th>\n",
       "      <th>retweet_count</th>\n",
       "      <th>reply_count</th>\n",
       "      <th>verified_user</th>\n",
       "      <th>location_name</th>\n",
       "      <th>location_lat</th>\n",
       "      <th>location_lon</th>\n",
       "    </tr>\n",
       "  </thead>\n",
       "  <tbody>\n",
       "    <tr>\n",
       "      <th>8321</th>\n",
       "      <td>20200507</td>\n",
       "      <td>1258371936742182916</td>\n",
       "      <td>RT @FransVerstrepe2: Het verbaast me steeds we...</td>\n",
       "      <td>12:23:43</td>\n",
       "      <td>True</td>\n",
       "      <td>0</td>\n",
       "      <td>0</td>\n",
       "      <td>0</td>\n",
       "      <td>False</td>\n",
       "      <td>Brugge, België</td>\n",
       "      <td>NaN</td>\n",
       "      <td>NaN</td>\n",
       "    </tr>\n",
       "    <tr>\n",
       "      <th>8324</th>\n",
       "      <td>20200507</td>\n",
       "      <td>1258357221794160642</td>\n",
       "      <td>RT @PVANBASTELAERE: Vanaf vandaag kan je als o...</td>\n",
       "      <td>11:25:15</td>\n",
       "      <td>True</td>\n",
       "      <td>0</td>\n",
       "      <td>0</td>\n",
       "      <td>0</td>\n",
       "      <td>False</td>\n",
       "      <td>Belgium Brussels</td>\n",
       "      <td>NaN</td>\n",
       "      <td>NaN</td>\n",
       "    </tr>\n",
       "    <tr>\n",
       "      <th>8325</th>\n",
       "      <td>20200507</td>\n",
       "      <td>1258354913777721347</td>\n",
       "      <td>RT @VreeseMaaike: Reeds 23 000 ondernemers heb...</td>\n",
       "      <td>11:16:05</td>\n",
       "      <td>True</td>\n",
       "      <td>0</td>\n",
       "      <td>0</td>\n",
       "      <td>0</td>\n",
       "      <td>False</td>\n",
       "      <td>Brugge, België</td>\n",
       "      <td>NaN</td>\n",
       "      <td>NaN</td>\n",
       "    </tr>\n",
       "    <tr>\n",
       "      <th>8335</th>\n",
       "      <td>20200507</td>\n",
       "      <td>1258323915572740096</td>\n",
       "      <td>RT @BeauVent_cv: ⚠️ Nieuwe datum ⚠️\\n\\n📣 Algem...</td>\n",
       "      <td>09:12:54</td>\n",
       "      <td>True</td>\n",
       "      <td>0</td>\n",
       "      <td>0</td>\n",
       "      <td>0</td>\n",
       "      <td>False</td>\n",
       "      <td>Brugge</td>\n",
       "      <td>NaN</td>\n",
       "      <td>NaN</td>\n",
       "    </tr>\n",
       "    <tr>\n",
       "      <th>8356</th>\n",
       "      <td>20200507</td>\n",
       "      <td>1258254122115104773</td>\n",
       "      <td>RT @FransVerstrepe2: Het verbaast me steeds we...</td>\n",
       "      <td>04:35:34</td>\n",
       "      <td>True</td>\n",
       "      <td>0</td>\n",
       "      <td>0</td>\n",
       "      <td>0</td>\n",
       "      <td>False</td>\n",
       "      <td>Limburg</td>\n",
       "      <td>NaN</td>\n",
       "      <td>NaN</td>\n",
       "    </tr>\n",
       "  </tbody>\n",
       "</table>\n",
       "</div>"
      ],
      "text/plain": [
       "          date                   id  \\\n",
       "8321  20200507  1258371936742182916   \n",
       "8324  20200507  1258357221794160642   \n",
       "8325  20200507  1258354913777721347   \n",
       "8335  20200507  1258323915572740096   \n",
       "8356  20200507  1258254122115104773   \n",
       "\n",
       "                                                   text      time  retweeted  \\\n",
       "8321  RT @FransVerstrepe2: Het verbaast me steeds we...  12:23:43       True   \n",
       "8324  RT @PVANBASTELAERE: Vanaf vandaag kan je als o...  11:25:15       True   \n",
       "8325  RT @VreeseMaaike: Reeds 23 000 ondernemers heb...  11:16:05       True   \n",
       "8335  RT @BeauVent_cv: ⚠️ Nieuwe datum ⚠️\\n\\n📣 Algem...  09:12:54       True   \n",
       "8356  RT @FransVerstrepe2: Het verbaast me steeds we...  04:35:34       True   \n",
       "\n",
       "      favorite_count  retweet_count  reply_count  verified_user  \\\n",
       "8321               0              0            0          False   \n",
       "8324               0              0            0          False   \n",
       "8325               0              0            0          False   \n",
       "8335               0              0            0          False   \n",
       "8356               0              0            0          False   \n",
       "\n",
       "         location_name  location_lat  location_lon  \n",
       "8321    Brugge, België           NaN           NaN  \n",
       "8324  Belgium Brussels           NaN           NaN  \n",
       "8325    Brugge, België           NaN           NaN  \n",
       "8335            Brugge           NaN           NaN  \n",
       "8356           Limburg           NaN           NaN  "
      ]
     },
     "execution_count": 136,
     "metadata": {},
     "output_type": "execute_result"
    }
   ],
   "source": [
    "# Get the tweets which do not have coordinates but do have a place name set\n",
    "locs_na = df[df['location_lat'].isna()]\n",
    "locs_na[locs_na['location_name'].notnull()].tail(5)"
   ]
  },
  {
   "cell_type": "code",
   "execution_count": 95,
   "metadata": {},
   "outputs": [],
   "source": [
    "# Use geopy with Nominatim to see if we can get some coordinates for the place names\n",
    "# Only keep them if they are located in Belgium\n",
    "# The users have a lot of location names like 'Anti EU' or 'Cocaine and Diamonds',\n",
    "# so we do not expect to get locations for all of them\n",
    "from geopy.geocoders import Nominatim\n",
    "geolocator = Nominatim(user_agent=\"SentimentAnalyser/1.9\")\n",
    "coord = {}\n",
    "def get_coordinates(city):\n",
    "    print(city)\n",
    "    if city not in coord:\n",
    "        result = geolocator.geocode(city, addressdetails=True)\n",
    "    else:\n",
    "        return coord[city][0], coord[city][1]\n",
    "    lat = np.NaN\n",
    "    lon = np.NaN\n",
    "    if result is not None:\n",
    "        if 'country_code' in result.raw['address'] and result.raw['address']['country_code'] == 'be':\n",
    "            lat = result.raw['lat']\n",
    "            lon = result.raw['lon']\n",
    "    coord[city] = (lat, lon)\n",
    "    return lat,lon"
   ]
  },
  {
   "cell_type": "code",
   "execution_count": null,
   "metadata": {},
   "outputs": [],
   "source": [
    "# Try to get the locations\n",
    "new_locs = []\n",
    "for index, row in locs_na[locs_na['location_name'].notnull()].iterrows():\n",
    "    lat, lon = get_coordinates(row['location_name'])\n",
    "    if lat != 'nan':\n",
    "        new_locs.append([row.id, lat, lon])\n",
    "    t.sleep(2)"
   ]
  },
  {
   "cell_type": "code",
   "execution_count": 88,
   "metadata": {},
   "outputs": [],
   "source": [
    "# Put them in a dataframe and drop 'NaN' values\n",
    "new_locs_df = pd.DataFrame(data=new_locs, columns=['id','location_lat', 'location_lon']).dropna().reset_index().drop('index',axis=1)"
   ]
  },
  {
   "cell_type": "code",
   "execution_count": 119,
   "metadata": {},
   "outputs": [
    {
     "data": {
      "text/plain": [
       "id              152\n",
       "location_lat    152\n",
       "location_lon    152\n",
       "dtype: int64"
      ]
     },
     "execution_count": 119,
     "metadata": {},
     "output_type": "execute_result"
    }
   ],
   "source": [
    "# See how many we got\n",
    "new_locs_df.count()"
   ]
  },
  {
   "cell_type": "code",
   "execution_count": 120,
   "metadata": {},
   "outputs": [],
   "source": [
    "# Add them to the other location dataframe and write to our demo folder\n",
    "locs_only = locs_only.append(new_locs_df).reset_index().drop('index',axis=1)\n",
    "locs_only.to_csv('demo/data/tweet_locations.csv')"
   ]
  },
  {
   "cell_type": "code",
   "execution_count": 121,
   "metadata": {},
   "outputs": [
    {
     "data": {
      "text/plain": [
       "id              8154\n",
       "location_lat    8154\n",
       "location_lon    8154\n",
       "dtype: int64"
      ]
     },
     "execution_count": 121,
     "metadata": {},
     "output_type": "execute_result"
    }
   ],
   "source": [
    "# Check if they were added correctly\n",
    "locs_only.count()"
   ]
  },
  {
   "cell_type": "markdown",
   "metadata": {},
   "source": [
    "### Tweet counts per day"
   ]
  },
  {
   "cell_type": "code",
   "execution_count": 122,
   "metadata": {},
   "outputs": [],
   "source": [
    "# Group the tweets by date and keep the size as counts\n",
    "tweet_count = df.groupby('date').size().reset_index(name='counts')"
   ]
  },
  {
   "cell_type": "code",
   "execution_count": 123,
   "metadata": {},
   "outputs": [],
   "source": [
    "# Function to replace the date format YYYYMMDD to YYYY-MM-DD so we can use it in JavaScript\n",
    "def replace_date(row):\n",
    "    row['date'] = str(row['date'])[0:4]+'-'+str(row['date'])[4:6]+'-'+str(row['date'])[6:8]\n",
    "    return row"
   ]
  },
  {
   "cell_type": "code",
   "execution_count": 124,
   "metadata": {},
   "outputs": [],
   "source": [
    "# Replace dates with JavaScript format and write to demo folder\n",
    "tweet_count = tweet_count.apply(lambda x: replace_date(x), axis=1)\n",
    "tweet_count.head(5)\n",
    "tweet_count.to_csv('demo/data/tweets_per_day.csv')"
   ]
  },
  {
   "cell_type": "markdown",
   "metadata": {},
   "source": [
    "### Keyword count"
   ]
  },
  {
   "cell_type": "code",
   "execution_count": 126,
   "metadata": {},
   "outputs": [],
   "source": [
    "# Keywords we used in our query\n",
    "keywords = ['corona', 'covid', 'mondmasker', 'blijfinuwkot', 'lockdown', 'virus', 'woonzorg', 'afstand', 'distancing']"
   ]
  },
  {
   "cell_type": "code",
   "execution_count": 127,
   "metadata": {},
   "outputs": [],
   "source": [
    "# For every keyword, get the amount of tweets which contain this keyword\n",
    "keyword_count = []\n",
    "for keyword in keywords:\n",
    "    count = df[df['text'].str.contains(keyword)].count()['id']\n",
    "    keyword_count.append([keyword, count])"
   ]
  },
  {
   "cell_type": "code",
   "execution_count": 128,
   "metadata": {},
   "outputs": [
    {
     "data": {
      "text/plain": [
       "[['corona', 2665],\n",
       " ['covid', 326],\n",
       " ['mondmasker', 219],\n",
       " ['blijfinuwkot', 260],\n",
       " ['lockdown', 1379],\n",
       " ['virus', 1351],\n",
       " ['woonzorg', 38],\n",
       " ['afstand', 678],\n",
       " ['distancing', 57]]"
      ]
     },
     "execution_count": 128,
     "metadata": {},
     "output_type": "execute_result"
    }
   ],
   "source": [
    "keyword_count"
   ]
  },
  {
   "cell_type": "code",
   "execution_count": 129,
   "metadata": {},
   "outputs": [],
   "source": [
    "# Convert to dataframe\n",
    "df_keywords = pd.DataFrame(data=keyword_count, columns=['keyword', 'count'])"
   ]
  },
  {
   "cell_type": "code",
   "execution_count": 130,
   "metadata": {},
   "outputs": [],
   "source": [
    "# Write to the demo folder\n",
    "df_keywords.to_csv('demo/data/keyword_count.csv')"
   ]
  },
  {
   "cell_type": "markdown",
   "metadata": {},
   "source": [
    "### Most popular tweets"
   ]
  },
  {
   "cell_type": "code",
   "execution_count": 24,
   "metadata": {},
   "outputs": [
    {
     "data": {
      "text/plain": [
       "Int64Index([1250, 964, 2040, 5450, 5995], dtype='int64')"
      ]
     },
     "execution_count": 24,
     "metadata": {},
     "output_type": "execute_result"
    }
   ],
   "source": [
    "most_popular = df[['favorite_count', 'retweet_count', 'reply_count']].sum(axis=1).sort_values(ascending=False).head(5)\n",
    "most_popular.index"
   ]
  },
  {
   "cell_type": "code",
   "execution_count": 31,
   "metadata": {},
   "outputs": [],
   "source": [
    "most_popular_df = df.loc[most_popular.index].reset_index()[['text', 'favorite_count','retweet_count', 'reply_count']]"
   ]
  },
  {
   "cell_type": "code",
   "execution_count": 32,
   "metadata": {},
   "outputs": [
    {
     "data": {
      "text/html": [
       "<div>\n",
       "<style scoped>\n",
       "    .dataframe tbody tr th:only-of-type {\n",
       "        vertical-align: middle;\n",
       "    }\n",
       "\n",
       "    .dataframe tbody tr th {\n",
       "        vertical-align: top;\n",
       "    }\n",
       "\n",
       "    .dataframe thead th {\n",
       "        text-align: right;\n",
       "    }\n",
       "</style>\n",
       "<table border=\"1\" class=\"dataframe\">\n",
       "  <thead>\n",
       "    <tr style=\"text-align: right;\">\n",
       "      <th></th>\n",
       "      <th>text</th>\n",
       "      <th>favorite_count</th>\n",
       "      <th>retweet_count</th>\n",
       "      <th>reply_count</th>\n",
       "    </tr>\n",
       "  </thead>\n",
       "  <tbody>\n",
       "    <tr>\n",
       "      <th>0</th>\n",
       "      <td>Heel deze corona crisis heeft mij één ding gel...</td>\n",
       "      <td>6367</td>\n",
       "      <td>1485</td>\n",
       "      <td>61</td>\n",
       "    </tr>\n",
       "    <tr>\n",
       "      <th>1</th>\n",
       "      <td>Ik heb daarnet met wat water, peper en zeep aa...</td>\n",
       "      <td>2835</td>\n",
       "      <td>741</td>\n",
       "      <td>33</td>\n",
       "    </tr>\n",
       "    <tr>\n",
       "      <th>2</th>\n",
       "      <td>We mogen nog steeds buiten om te sporten. Dit ...</td>\n",
       "      <td>2601</td>\n",
       "      <td>569</td>\n",
       "      <td>38</td>\n",
       "    </tr>\n",
       "    <tr>\n",
       "      <th>3</th>\n",
       "      <td>de eerste dag na de lockdown https://t.co/Fu4V...</td>\n",
       "      <td>1919</td>\n",
       "      <td>869</td>\n",
       "      <td>2</td>\n",
       "    </tr>\n",
       "    <tr>\n",
       "      <th>4</th>\n",
       "      <td>Stappenplan voor mensen die de festivals gaan ...</td>\n",
       "      <td>1563</td>\n",
       "      <td>293</td>\n",
       "      <td>47</td>\n",
       "    </tr>\n",
       "  </tbody>\n",
       "</table>\n",
       "</div>"
      ],
      "text/plain": [
       "                                                text  favorite_count  \\\n",
       "0  Heel deze corona crisis heeft mij één ding gel...            6367   \n",
       "1  Ik heb daarnet met wat water, peper en zeep aa...            2835   \n",
       "2  We mogen nog steeds buiten om te sporten. Dit ...            2601   \n",
       "3  de eerste dag na de lockdown https://t.co/Fu4V...            1919   \n",
       "4  Stappenplan voor mensen die de festivals gaan ...            1563   \n",
       "\n",
       "   retweet_count  reply_count  \n",
       "0           1485           61  \n",
       "1            741           33  \n",
       "2            569           38  \n",
       "3            869            2  \n",
       "4            293           47  "
      ]
     },
     "execution_count": 32,
     "metadata": {},
     "output_type": "execute_result"
    }
   ],
   "source": [
    "most_popular_df"
   ]
  },
  {
   "cell_type": "code",
   "execution_count": 34,
   "metadata": {},
   "outputs": [],
   "source": [
    "most_popular_df.to_csv('demo/data/most_popular_tweets.csv')"
   ]
  },
  {
   "cell_type": "code",
   "execution_count": 35,
   "metadata": {},
   "outputs": [
    {
     "name": "stdout",
     "output_type": "stream",
     "text": [
      "Heel deze corona crisis heeft mij één ding geleerd. Ik hoop dat ik nooit een oorlog moet meemaken met dit volk.\n",
      "Ik heb daarnet met wat water, peper en zeep aan mijn kinderen uitgelegd waarom we - om het #corona virus tegen te gaan - onze handen vaak moeten wassen: https://t.co/lHlRtcZMbh\n",
      "We mogen nog steeds buiten om te sporten. Dit is een groot verschil met andere landen. Verkloot dit niet en hou je aan de regels. Ga max met 2 sporten. Hou afstand. Wees voorzichtig, neem geen risico’s (nu is niet het moment om een blessure op te lopen).\n",
      "de eerste dag na de lockdown https://t.co/Fu4VtYeZaf\n",
      "Stappenplan voor mensen die de festivals gaan missen:\n",
      "\n",
      "1. Parkeer je auto 5km van thuis.\n",
      "2. Wandel terug.\n",
      "3. Koop bij de nachtwinkel 10 blikken bier voor 30 euro.\n",
      "4. Speel een concertvideo af op je telefoon.\n",
      "5. Bekijk die van 3 meter afstand.\n",
      "6. Slaap in tuin.\n",
      "7. Haal je auto op.\n"
     ]
    }
   ],
   "source": [
    "for index, tweet in most_popular_df.iterrows():\n",
    "    print(tweet.text)"
   ]
  }
 ],
 "metadata": {
  "kernelspec": {
   "display_name": "Python 3",
   "language": "python",
   "name": "python3"
  },
  "language_info": {
   "codemirror_mode": {
    "name": "ipython",
    "version": 3
   },
   "file_extension": ".py",
   "mimetype": "text/x-python",
   "name": "python",
   "nbconvert_exporter": "python",
   "pygments_lexer": "ipython3",
   "version": "3.7.3"
  }
 },
 "nbformat": 4,
 "nbformat_minor": 2
}
